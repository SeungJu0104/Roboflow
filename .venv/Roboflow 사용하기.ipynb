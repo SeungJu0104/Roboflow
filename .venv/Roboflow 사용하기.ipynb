{
 "cells": [
  {
   "cell_type": "code",
   "execution_count": null,
   "id": "e7706450",
   "metadata": {},
   "outputs": [],
   "source": [
    "from inference_sdk import InferenceHTTPClient\n",
    "\n",
    "CLIENT = InferenceHTTPClient(\n",
    "    api_url=\"https://detect.roboflow.com\",\n",
    "    api_key=\"TkYYNlQBnR2sSqe4RBLt\"\n",
    ")\n"
   ]
  },
  {
   "cell_type": "code",
   "execution_count": 7,
   "id": "c1be2089",
   "metadata": {},
   "outputs": [
    {
     "name": "stdout",
     "output_type": "stream",
     "text": [
      "{'inference_id': '423d7c49-5af8-44b2-aa52-d8ba12d911e8', 'time': 0.09941721399991366, 'image': {'width': 416, 'height': 416}, 'predictions': [{'x': 191.5, 'y': 357.0, 'width': 41.0, 'height': 48.0, 'confidence': 0.9910095930099487, 'class': '2', 'class_id': 2, 'detection_id': '631ef462-f236-4c4e-a231-343350e0bfc5'}, {'x': 77.5, 'y': 142.5, 'width': 35.0, 'height': 45.0, 'confidence': 0.9871798157691956, 'class': '6', 'class_id': 6, 'detection_id': 'df231462-b1a3-4a6a-aee2-a5f0b3842cfe'}, {'x': 263.5, 'y': 87.5, 'width': 19.0, 'height': 21.0, 'confidence': 0.9563694000244141, 'class': '6', 'class_id': 6, 'detection_id': '8cd2ef9e-44a7-4184-a6ae-1aedc8a9e845'}, {'x': 71.0, 'y': 328.0, 'width': 46.0, 'height': 84.0, 'confidence': 0.9533838033676147, 'class': '1', 'class_id': 1, 'detection_id': '6d22116c-b860-4573-be0e-7acd0c37c97d'}, {'x': 117.0, 'y': 230.5, 'width': 42.0, 'height': 65.0, 'confidence': 0.9072553515434265, 'class': '9', 'class_id': 9, 'detection_id': '3b0b08ef-f884-4f65-808e-5783abd1db6b'}, {'x': 341.0, 'y': 262.0, 'width': 36.0, 'height': 46.0, 'confidence': 0.8227897882461548, 'class': '0', 'class_id': 0, 'detection_id': '6dda72ba-bbbe-4845-8ed5-a48366cc93f7'}, {'x': 278.0, 'y': 215.0, 'width': 20.0, 'height': 24.0, 'confidence': 0.7585495710372925, 'class': '0', 'class_id': 0, 'detection_id': '56d13484-e9c7-4e9a-8d87-032bf13746d1'}, {'x': 399.5, 'y': 196.5, 'width': 17.0, 'height': 19.0, 'confidence': 0.758459746837616, 'class': '9', 'class_id': 9, 'detection_id': '7b6c0d2a-3a4f-41bd-8ba8-8982c385d11a'}, {'x': 25.5, 'y': 138.5, 'width': 19.0, 'height': 25.0, 'confidence': 0.5912183523178101, 'class': '3', 'class_id': 3, 'detection_id': '7845d438-c714-4231-bb35-e9b406a9b324'}, {'x': 163.5, 'y': 305.5, 'width': 17.0, 'height': 21.0, 'confidence': 0.4819054901599884, 'class': '6', 'class_id': 6, 'detection_id': '85f0c2c7-d975-4c67-911c-a11a19e431f5'}, {'x': 25.5, 'y': 138.5, 'width': 19.0, 'height': 25.0, 'confidence': 0.4257255494594574, 'class': '5', 'class_id': 5, 'detection_id': 'c2ada349-d859-4080-b64c-73b152417190'}]}\n"
     ]
    }
   ],
   "source": [
    "filename = 'number.jpg'\n",
    "result = CLIENT.infer(filename, model_id=\"numbers-doqnw/3\")\n",
    "print(result)"
   ]
  },
  {
   "cell_type": "code",
   "execution_count": null,
   "id": "548cafcc",
   "metadata": {},
   "outputs": [],
   "source": [
    "import cv2\n",
    "\n",
    "img = cv2.imread(filename)\n",
    "for pred in result[\"predictions\"]:\n",
    "    x, y = pred['x'], pred['y']\n",
    "    width, height = pred['width'], pred['height']\n",
    "    conf = pred['confidence']\n",
    "    cls = pred['class']\n",
    "    x1, y1 = int(x-width/2), int(y-height/2)\n",
    "    x2, y2 = int(x+width/2), int(y+height/2)\n",
    "    cv2.rectangle(img, (x1,y1), (x2, y2), (0,0,255), 2)\n",
    "    cv2.putText(img, f'{cls} {conf:.4f}', (x1,y1-5), cv2.FONT_HERSHEY_PLAIN, 1, (0,0,255))\n",
    "\n",
    "cv2.imshow('image', img)\n",
    "cv2.waitKey()\n",
    "cv2.destroyAllWindows()"
   ]
  },
  {
   "cell_type": "code",
   "execution_count": 3,
   "id": "04934001",
   "metadata": {},
   "outputs": [
    {
     "name": "stdout",
     "output_type": "stream",
     "text": [
      "loading Roboflow workspace...\n",
      "loading Roboflow project...\n"
     ]
    }
   ],
   "source": [
    "from roboflow import Roboflow\n",
    "\n",
    "rf = Roboflow(api_key=\"TkYYNlQBnR2sSqe4RBLt\")\n",
    "project = rf.workspace().project(\"numbers-doqnw\")\n",
    "model = project.version(3).model\n",
    "\n",
    "filename = 'number.jpg'\n",
    "result = model.predict(filename).json()"
   ]
  }
 ],
 "metadata": {
  "kernelspec": {
   "display_name": ".venv",
   "language": "python",
   "name": "python3"
  },
  "language_info": {
   "codemirror_mode": {
    "name": "ipython",
    "version": 3
   },
   "file_extension": ".py",
   "mimetype": "text/x-python",
   "name": "python",
   "nbconvert_exporter": "python",
   "pygments_lexer": "ipython3",
   "version": "3.13.7"
  }
 },
 "nbformat": 4,
 "nbformat_minor": 5
}
