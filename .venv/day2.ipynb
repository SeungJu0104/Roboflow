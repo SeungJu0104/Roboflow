{
 "cells": [
  {
   "cell_type": "code",
   "execution_count": null,
   "id": "ed34fa09",
   "metadata": {},
   "outputs": [],
   "source": [
    "from ultralytics import YOLO\n",
    "model = YOLO(\"yolov8n.pt\")\n",
    "model.info(detailed=True)\n",
    "\n",
    "data_path = \"C:/dev/datasets/data.yaml\"\n",
    "model.train(data=data_path, epochs=250)"
   ]
  },
  {
   "cell_type": "code",
   "execution_count": null,
   "id": "faedd777",
   "metadata": {},
   "outputs": [],
   "source": [
    "model = YOLO(\"runs/detect/train/weights/best.pt\")"
   ]
  },
  {
   "cell_type": "code",
   "execution_count": null,
   "id": "b77223cc",
   "metadata": {},
   "outputs": [],
   "source": [
    "import cv2\n",
    "\n",
    "image_path = 'number.jpg'\n",
    "img = cv2.imread(image_path)\n",
    "\n",
    "result = model.predict(image_path)\n",
    "\n",
    "for box in result[0].boxes:\n",
    "    x1, y1, x2, y2 = box.xyxy[0].numpy().flatten().astype(int)\n",
    "    cv2.rectangle(img, (x1, y1), (x2, y2), (0,0,255), 2)\n",
    "    cv2.putText(img, f'{result[0].names[int(box.cls)]}{float(box.conf):.4f}',(x1, y1), cv2.FONT_HERSHEY_PLAIN, 2, (0,0,255))\n",
    "\n",
    "cv2.imshow('imgae', img)\n",
    "cv2.waitKey()\n",
    "cv2.destroyAllWindows()"
   ]
  }
 ],
 "metadata": {
  "kernelspec": {
   "display_name": ".venv",
   "language": "python",
   "name": "python3"
  },
  "language_info": {
   "codemirror_mode": {
    "name": "ipython",
    "version": 3
   },
   "file_extension": ".py",
   "mimetype": "text/x-python",
   "name": "python",
   "nbconvert_exporter": "python",
   "pygments_lexer": "ipython3",
   "version": "3.13.7"
  }
 },
 "nbformat": 4,
 "nbformat_minor": 5
}
